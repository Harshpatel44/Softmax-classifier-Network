{
  "nbformat": 4,
  "nbformat_minor": 0,
  "metadata": {
    "colab": {
      "name": "Untitled8.ipynb",
      "provenance": [],
      "toc_visible": true,
      "authorship_tag": "ABX9TyML8oUXs9gYSNIPfL49DTdG",
      "include_colab_link": true
    },
    "kernelspec": {
      "name": "python3",
      "display_name": "Python 3"
    }
  },
  "cells": [
    {
      "cell_type": "markdown",
      "metadata": {
        "id": "view-in-github",
        "colab_type": "text"
      },
      "source": [
        "<a href=\"https://colab.research.google.com/github/Harshpatel44/Softmax-classifier-Network/blob/master/softmax-classifier.ipynb\" target=\"_parent\"><img src=\"https://colab.research.google.com/assets/colab-badge.svg\" alt=\"Open In Colab\"/></a>"
      ]
    },
    {
      "cell_type": "markdown",
      "metadata": {
        "id": "L-9jpuuvqwx2",
        "colab_type": "text"
      },
      "source": [
        "# Imports"
      ]
    },
    {
      "cell_type": "code",
      "metadata": {
        "id": "Y-CrnIUsgGPw",
        "colab_type": "code",
        "colab": {}
      },
      "source": [
        "import time\n",
        "from sklearn import datasets,decomposition\n",
        "from sklearn.preprocessing import StandardScaler\n",
        "import numpy as np\n",
        "import matplotlib.pyplot as plt\n",
        "from numpy.random import default_rng\n",
        "rng = default_rng()\n",
        "np.random.seed(0)"
      ],
      "execution_count": 0,
      "outputs": []
    },
    {
      "cell_type": "markdown",
      "metadata": {
        "id": "oMf7YtrxFRpg",
        "colab_type": "text"
      },
      "source": [
        "# Functions used"
      ]
    },
    {
      "cell_type": "markdown",
      "metadata": {
        "id": "mMCFdDJSqS25",
        "colab_type": "text"
      },
      "source": [
        "single vector from one-hot encoding"
      ]
    },
    {
      "cell_type": "code",
      "metadata": {
        "colab_type": "code",
        "id": "AvDl_8om-1FZ",
        "colab": {}
      },
      "source": [
        "def single_from_one_hot(z):\n",
        "    return np.argmax(z,axis=1)"
      ],
      "execution_count": 0,
      "outputs": []
    },
    {
      "cell_type": "markdown",
      "metadata": {
        "id": "ee-Wpu74qKJP",
        "colab_type": "text"
      },
      "source": [
        "One Hot encoding"
      ]
    },
    {
      "cell_type": "code",
      "metadata": {
        "id": "fnsh9RxZEbRl",
        "colab_type": "code",
        "colab": {}
      },
      "source": [
        "def one_hot_encoding(X,classes):\n",
        "  one_hot_X=np.zeros((X.shape[0],classes))\n",
        "  one_hot_X[range(X.shape[0]),np.array(X[:,-1],dtype='int8')] = 1\n",
        "  X=np.array(X[:,:-1])\n",
        "  X=np.append(X,one_hot_X,axis=1)\n",
        "  return X"
      ],
      "execution_count": 0,
      "outputs": []
    },
    {
      "cell_type": "markdown",
      "metadata": {
        "id": "EMcDVMAnqMtZ",
        "colab_type": "text"
      },
      "source": [
        "train-test split"
      ]
    },
    {
      "cell_type": "code",
      "metadata": {
        "id": "Lo0rm553UUDI",
        "colab_type": "code",
        "colab": {}
      },
      "source": [
        "def train_test_split(data,tr_percent,te_percent):\n",
        "    n=np.round((data.shape[0] * tr_percent) / 100)\n",
        "    return data[0:int(n),:-1],data[0:int(n),-1],data[int(n):,:-1],data[int(n):,-1]"
      ],
      "execution_count": 0,
      "outputs": []
    },
    {
      "cell_type": "markdown",
      "metadata": {
        "id": "dAELy1XBqJBe",
        "colab_type": "text"
      },
      "source": [
        "PCA"
      ]
    },
    {
      "cell_type": "code",
      "metadata": {
        "id": "G3WPKhEVqD2X",
        "colab_type": "code",
        "colab": {}
      },
      "source": [
        "def pca_func(train,test):\n",
        "  pca=decomposition.PCA(.50)\n",
        "  pca.fit(train)\n",
        "  pca_train=pca.transform(train)\n",
        "  pca_test=pca.transform(test)\n",
        "  print(np.max(pca_train))\n",
        "  print(np.min(pca_train))\n",
        "  return pca_train,pca_test"
      ],
      "execution_count": 0,
      "outputs": []
    },
    {
      "cell_type": "markdown",
      "metadata": {
        "id": "VI1y4Xjxqfv3",
        "colab_type": "text"
      },
      "source": [
        "Standard scaling"
      ]
    },
    {
      "cell_type": "code",
      "metadata": {
        "id": "mnc_cnVbqfQ5",
        "colab_type": "code",
        "colab": {}
      },
      "source": [
        "def scale(train,test):\n",
        "  ss=StandardScaler()\n",
        "  ss.fit(train)\n",
        "  ss_train=ss.transform(train)\n",
        "  ss_test=ss.transform(test)\n",
        "  print(np.max(ss_train))\n",
        "  print(np.min(ss_train))\n",
        "  return ss_train,ss_test"
      ],
      "execution_count": 0,
      "outputs": []
    },
    {
      "cell_type": "markdown",
      "metadata": {
        "id": "cgWGmcsxqbqY",
        "colab_type": "text"
      },
      "source": [
        "Plotting"
      ]
    },
    {
      "cell_type": "code",
      "metadata": {
        "id": "Z3wez6mmUQFS",
        "colab_type": "code",
        "colab": {}
      },
      "source": [
        "def plot_decision(obj,X,numOutputs):\n",
        "    x_min, x_max = X[:, 0].min() - 1, X[:, 0].max() + 1\n",
        "    y_min, y_max = X[:, 1].min() - 1, X[:, 1].max() + 1\n",
        "    xx, yy = np.meshgrid(np.arange(x_min, x_max, 0.1), np.arange(y_min, y_max, 0.1))\n",
        "    ar=np.array([xx.ravel(), yy.ravel()])   \n",
        "    for i in range(numOutputs+1):   # adding column for bias and label for consistency\n",
        "      ar=np.append(ar,np.zeros((1,ar.shape[1]))+1,axis=0)\n",
        "    z = obj.predict(ar.T,1)\n",
        "    z = z[:,0].reshape(xx.shape)\n",
        "    plt.contourf(xx,yy,z)\n",
        "    plt.scatter(X[:,0],X[:,1],c=X[:,-1])\n",
        "    plt.show()"
      ],
      "execution_count": 0,
      "outputs": []
    },
    {
      "cell_type": "markdown",
      "metadata": {
        "id": "PPXc4iUhq5r7",
        "colab_type": "text"
      },
      "source": [
        "# Mnist_data"
      ]
    },
    {
      "cell_type": "code",
      "metadata": {
        "id": "8yhwof0_q7t3",
        "colab_type": "code",
        "colab": {}
      },
      "source": [
        "mnist = datasets.fetch_openml('mnist_784')"
      ],
      "execution_count": 0,
      "outputs": []
    },
    {
      "cell_type": "markdown",
      "metadata": {
        "id": "oy2gYTCxF3cR",
        "colab_type": "text"
      },
      "source": [
        "Declaration"
      ]
    },
    {
      "cell_type": "code",
      "metadata": {
        "id": "bbEF9vRKgIRG",
        "colab_type": "code",
        "colab": {}
      },
      "source": [
        "train = mnist.data[:60000,:]\n",
        "test =  mnist.data[60000:,:]\n",
        "train_y = mnist.target[:60000]\n",
        "test_y =  mnist.target[60000:]\n",
        "\n",
        "\n",
        "train_y=train_y.reshape((train_y.shape[0],1))\n",
        "test_y=test_y.reshape((test_y.shape[0],1))\n",
        "train_y= np.array(train_y,dtype=\"float32\")\n",
        "test_y= np.array(test_y,dtype=\"float32\")\n",
        "\n",
        "\n",
        "train_y=one_hot_encoding(train_y,10)\n",
        "test_y=one_hot_encoding(test_y,10)\n",
        "#train=np.clip(train,0,1)\n",
        "#test=np.clip(test,0,1)"
      ],
      "execution_count": 0,
      "outputs": []
    },
    {
      "cell_type": "code",
      "metadata": {
        "id": "kdvb30NGFXzJ",
        "colab_type": "code",
        "outputId": "fba55d91-ff51-4735-e332-226e0a6cf637",
        "colab": {
          "base_uri": "https://localhost:8080/",
          "height": 51
        }
      },
      "source": [
        "pca_train,pca_test=pca_func(train,test)"
      ],
      "execution_count": 37,
      "outputs": [
        {
          "output_type": "stream",
          "text": [
            "2363.3240553736114\n",
            "-1507.4220234416862\n"
          ],
          "name": "stdout"
        }
      ]
    },
    {
      "cell_type": "code",
      "metadata": {
        "id": "W4LhehyGrHv1",
        "colab_type": "code",
        "colab": {
          "base_uri": "https://localhost:8080/",
          "height": 51
        },
        "outputId": "66b84ca3-9563-4206-a1d7-e8ea47e1bdd3"
      },
      "source": [
        "ss_train,ss_test=scale(pca_train,pca_test)"
      ],
      "execution_count": 38,
      "outputs": [
        {
          "output_type": "stream",
          "text": [
            "4.864449151944299\n",
            "-3.666963630799203\n"
          ],
          "name": "stdout"
        }
      ]
    },
    {
      "cell_type": "code",
      "metadata": {
        "id": "KLeLYgVTZ3kV",
        "colab_type": "code",
        "outputId": "0c253248-5f61-41d5-8d47-7bdcf6ddab90",
        "colab": {
          "base_uri": "https://localhost:8080/",
          "height": 282
        }
      },
      "source": [
        "\n",
        "plt.imshow(train[0].reshape(28,28), cmap='gray', interpolation='none')"
      ],
      "execution_count": 27,
      "outputs": [
        {
          "output_type": "execute_result",
          "data": {
            "text/plain": [
              "<matplotlib.image.AxesImage at 0x7f8087cf0128>"
            ]
          },
          "metadata": {
            "tags": []
          },
          "execution_count": 27
        },
        {
          "output_type": "display_data",
          "data": {
            "image/png": "[encoded data removed]",
            "text/plain": [
              "<Figure size 432x288 with 1 Axes>"
            ]
          },
          "metadata": {
            "tags": [],
            "needs_background": "light"
          }
        }
      ]
    },
    {
      "cell_type": "markdown",
      "metadata": {
        "id": "MqeJdkVKrTXb",
        "colab_type": "text"
      },
      "source": [
        "# Synthetic_data"
      ]
    },
    {
      "cell_type": "code",
      "metadata": {
        "id": "Cue07MOUukIY",
        "colab_type": "code",
        "outputId": "197eb9d8-51ab-4f5a-9eea-dfcd0834f189",
        "colab": {
          "base_uri": "https://localhost:8080/",
          "height": 337
        }
      },
      "source": [
        "class data_set1:\n",
        "  \n",
        "  def __init__(self):\n",
        "    self.cov1= [[0,0],[0,0]]  #covariance for class1\n",
        "    self.cov2=[[0,0],[0,0]]   #covariance for class2   \n",
        "    \n",
        "    # method to adjust noise\n",
        "  def noise(self,amt1,amt2=0):             \n",
        "    n1=(3.5 - 0.4)*(amt1) + 0.4  #3.5 is max covariance and 0.4 is min covariance taken for noise\n",
        "    self.cov1=[[n1,0],[0,n1]]\n",
        "    if(amt2==0):\n",
        "      amt2=amt1\n",
        "    n2=(3.5 - 0.4)*(amt2) + 0.4\n",
        "    self.cov2=[[n2,0],[0,n2]]\n",
        "  #method to create data\n",
        "  def create(self,n=2,items=100,noise=0):\n",
        "    self.noise(noise,noise)\n",
        "    self.n= n\n",
        "    \n",
        "    self.items= int(np.round(items/n))    # items per class =  all items / n \n",
        "    mx = rng.choice(int(self.n), size=self.n, replace=False)  # random x value of mean \n",
        "    my = rng.choice(int(self.n), size=self.n, replace=False)  # random y value of mean\n",
        "    for i in range(self.n):\n",
        "        if(i==0):\n",
        "          x1, y1 = np.random.multivariate_normal([mx[i]*3,my[i]*2], self.cov1, self.items).T  #class1\n",
        "          self.d1_data = np.array([x1,y1,np.zeros(x1.shape)+i])\n",
        "        else:\n",
        "          x2, y2 = np.random.multivariate_normal([mx[i]*3,my[i]*2], self.cov2, self.items).T  #class2\n",
        "          self.d1_data=np.append(self.d1_data,[x2,y2,np.zeros(x1.shape)+i],axis=1)\n",
        "    #appending both classes to 1 array and also adding another column of labels\n",
        "    self.d1_data=self.d1_data.T\n",
        "    return self.d1_data\n",
        "  def plot(self):\n",
        "    plt.figure(figsize=(5,5))\n",
        "    plt.scatter(self.d1_data[:,0],self.d1_data[:,1],c=self.d1_data[:,2])\n",
        "    \n",
        "    ax = plt.gca()\n",
        "    ax.set_facecolor('xkcd:salmon')\n",
        "    ax.set_facecolor((0, 0, 0))\n",
        "    #plt.axis([-6,6,-6,6])\n",
        "    plt.show()\n",
        "\n",
        "obj1=data_set1()\n",
        "X=obj1.create(5,1000,0.00)   #class,items,noise\n",
        "np.random.shuffle(X)\n",
        "obj1.plot()\n",
        "train=X[:,:-1]\n",
        "train_y=X[:,-1]\n",
        "\n",
        "train,train_y,test,test_y=train_test_split(X,90,10)\n",
        "\n",
        "train_y=train_y.reshape(train_y.shape[0],1)\n",
        "test_y=test_y.reshape(test_y.shape[0],1)\n",
        "\n",
        "train_y=one_hot_encoding(train_y,5)\n",
        "test_y=one_hot_encoding(test_y,5)"
      ],
      "execution_count": 12,
      "outputs": [
        {
          "output_type": "display_data",
          "data": {
            "image/png": "[encoded data removed]",
            "text/plain": [
              "<Figure size 360x360 with 1 Axes>"
            ]
          },
          "metadata": {
            "tags": [],
            "needs_background": "light"
          }
        },
        {
          "output_type": "stream",
          "text": [
            "(900, 5)\n"
          ],
          "name": "stdout"
        }
      ]
    },
    {
      "cell_type": "code",
      "metadata": {
        "id": "7CtNOL_DrYXU",
        "colab_type": "code",
        "colab": {}
      },
      "source": [
        "pca_train,pca_test=pca_func(train,test)"
      ],
      "execution_count": 0,
      "outputs": []
    },
    {
      "cell_type": "code",
      "metadata": {
        "id": "V5_1rq1WraqB",
        "colab_type": "code",
        "colab": {}
      },
      "source": [
        "ss_train,ss_test=scale(train,test)"
      ],
      "execution_count": 0,
      "outputs": []
    },
    {
      "cell_type": "markdown",
      "metadata": {
        "id": "VXnLp_PnrpLA",
        "colab_type": "text"
      },
      "source": [
        "# Model"
      ]
    },
    {
      "cell_type": "markdown",
      "metadata": {
        "id": "k41nUbxDF-4Z",
        "colab_type": "text"
      },
      "source": [
        "Feedforward net without any optimization"
      ]
    },
    {
      "cell_type": "code",
      "metadata": {
        "id": "O2FZVJP2S_7q",
        "colab_type": "code",
        "outputId": "b9b6527c-c294-4dff-bea1-73097f230e8f",
        "colab": {
          "base_uri": "https://localhost:8080/",
          "height": 1000
        }
      },
      "source": [
        "class Model():\n",
        "    def __init__(self):\n",
        "        self.hidden_units=1\n",
        "        self.learning_rate=0.00001\n",
        "        self.output_classes=10\n",
        "        \n",
        "    def init_weights(self):\n",
        "        self.w1=np.random.random_sample((self.train.shape[1],self.hidden_units))\n",
        "        \n",
        "        self.b1=np.zeros((1,self.hidden_units))+1\n",
        "        self.w2=np.random.random_sample((self.hidden_units,self.hidden_units))\n",
        "        \n",
        "        self.b2=np.zeros((1,self.hidden_units))+1\n",
        "        \n",
        "        self.w3=np.random.random_sample((self.hidden_units,self.output_classes))\n",
        "        self.b3=np.zeros((1,self.output_classes))+1\n",
        "\n",
        "    def cross_entropy_loss(self,y,t):\n",
        "        return -np.sum(t * np.log(y+0.00000001))\n",
        "\n",
        "    def mse_loss(self,y,t):\n",
        "        return np.sum(0.5 * np.power(y - t,2))\n",
        "\n",
        "    def activ(self,z,n):\n",
        "        if n=='relu':\n",
        "          return np.maximum(0,z)  \n",
        "          \n",
        "        if n=='softmax':\n",
        "          t=np.exp(z - np.max(z,axis=1,keepdims=True) )/np.sum(np.exp(z - np.max(z,axis=1,keepdims=True) ),axis=1,keepdims=True)\n",
        "          return t\n",
        "          #return np.exp(z)/np.sum(np.exp(z))\n",
        "\n",
        "    def deriv_activ(self,z,n='r'):\n",
        "        if(n==\"r\"):\n",
        "            return np.where(z>0,1,0)\n",
        "\n",
        "    def train_model(self,train,train_y):\n",
        "        self.train=train\n",
        "        self.train_y=train_y\n",
        "        self.init_weights()\n",
        "        train_loss=[]\n",
        "        for i in range(100):\n",
        "                        \n",
        "            h1=self.activ(np.dot(self.train,self.w1)+self.b1,'relu')\n",
        "            h2=self.activ(np.dot(h1,self.w2)+self.b2,'relu')\n",
        "            y=self.activ(np.dot(h2,self.w3)+self.b3,'softmax')\n",
        "\n",
        "            l=self.cross_entropy_loss(y,self.train_y)\n",
        "            print(l)\n",
        "    \n",
        "            if(i%500==0):\n",
        "              l=self.cross_entropy_loss(y,self.train_y)\n",
        "              print(l)\n",
        "            train_loss.append(l)\n",
        "\n",
        "            # derivative for softmax and cross entropy loss together\n",
        "            dl = y - self.train_y                             # [60k x 10]\n",
        "            \n",
        "            #w3/dl\n",
        "            w3_ = np.dot(h2.T,dl)                        # [5 x 60k] x [60k x 10] = [5 x 10] \n",
        "            b3_ = np.sum(dl,axis=0,keepdims=True)\n",
        "           \n",
        "            #w2/dl\n",
        "            dz3_=np.dot(dl,self.w3.T)                    # [60k x 10] x [10 x 5] = [60k x 5]\n",
        "            dh2_=np.multiply(dz3_,self.deriv_activ(h2))  # [60k x 5] * [60 x 5]  = [60k x 5]\n",
        "            w2_=np.dot(h1.T,dh2_)                        # [5 X 60k] x [60k x 5] = [5 x 5]\n",
        "            b2_=np.sum(dh2_,axis=0,keepdims=True)\n",
        "            #w1/dl\n",
        "            dz2_=np.dot(dh2_,self.w2.T)                   # [60k x 5] x [5 x 5] = [60k x 5]\n",
        "            dh1_ =np.multiply(dz2_,self.deriv_activ(h1))  # [60k x 5] * [60k x 5] = [60k x 5]\n",
        "            w1_=np.dot(self.train.T,dh1_)                 # [784 x 60k] * [60k x 5] = [784 x 5]\n",
        "            b1_=np.sum(dh2_,axis=0,keepdims=True)\n",
        "\n",
        "            #w3_=np.clip(w3_,-1000,1000)\n",
        "            #w2_=np.clip(w2_,-1000,1000)\n",
        "            #w1_=np.clip(w1_,-1000,1000)\n",
        "            # w3_ += 1e-03 * w3_\n",
        "            # w2_ += 1e-03 * w2_\n",
        "            # w1_ += 1e-03 * w1_\n",
        "            self.w3+= (-self.learning_rate * w3_)\n",
        "            self.w2+= (-self.learning_rate * w2_)\n",
        "            self.w1+= (-self.learning_rate * w1_)\n",
        "            \n",
        "            # b3_=np.clip(b3_,-100,100)\n",
        "            # b2_=np.clip(b2_,-100,100)\n",
        "            # b1_=np.clip(b1_,-100,100)\n",
        "            self.b3+= (-self.learning_rate * b3_)\n",
        "            self.b2+= (-self.learning_rate * b2_)\n",
        "            self.b1+= (-self.learning_rate * b1_)\n",
        "\n",
        "        del h1,h2,y,l\n",
        "        return train_loss \n",
        "    def test_model(self,test,test_y):\n",
        "        h1=self.activ(np.dot(test,self.w1)+self.b1,'relu')\n",
        "        h2=self.activ(np.dot(h1,self.w2)+self.b2,'relu')\n",
        "        y=self.activ(np.dot(h2,self.w3)+self.b3,'softmax')\n",
        "        \n",
        "        l=self.cross_entropy_loss(y,test_y)\n",
        "        print(y[0])\n",
        "        print(np.argmax(y,axis=1))\n",
        "        print(np.argmax(test_y,axis=1))\n",
        "        return l,np.mean(np.argmax(y,axis=1)==np.argmax(test_y,axis=1))\n",
        "\n",
        "net=Model()\n",
        "training_loss=net.train_model(pca_train,train_y)\n",
        "plt.plot(training_loss)\n",
        "plt.show()\n",
        "loss,accuracy=net.test_model(pca_train,train_y)\n",
        "print(accuracy)"
      ],
      "execution_count": 53,
      "outputs": [
        {
          "output_type": "stream",
          "text": [
            "468016.82977474073\n",
            "468016.82977474073\n",
            "420075.7657900678\n",
            "138423.9665859782\n",
            "138386.17129353064\n",
            "138352.28619124548\n",
            "138321.92455024703\n",
            "138294.73535472382\n",
            "138270.4003455164\n",
            "138248.63126642193\n",
            "138229.16730357\n",
            "138211.77270850755\n",
            "138196.2345958167\n",
            "138182.36090622024\n",
            "138169.9785262395\n",
            "138158.93155558524\n",
            "138149.07971359216\n",
            "138140.29687616843\n",
            "138132.46973492097\n",
            "138125.49657034857\n",
            "138119.28613124258\n",
            "138113.7566127307\n",
            "138108.83472570233\n",
            "138104.45485068855\n",
            "138100.55826961048\n",
            "138097.09246916836\n",
            "138094.01050999758\n",
            "138091.2704560814\n",
            "138088.8348592628\n",
            "138086.67029405007\n",
            "138084.74693824825\n",
            "138083.0381952792\n",
            "138081.52035436532\n",
            "138080.17228505577\n",
            "138078.97516285488\n",
            "138077.91222298425\n",
            "138076.9685395603\n",
            "138076.1308277055\n",
            "138075.38726633159\n",
            "138074.7273395354\n",
            "138074.14169473917\n",
            "138073.6220158782\n",
            "138073.16091010152\n",
            "138072.75180659545\n",
            "138072.3888662768\n",
            "138072.06690122382\n",
            "138071.78130282453\n",
            "138071.52797772558\n",
            "138071.30329075523\n",
            "138071.1040140796\n",
            "138070.9272819261\n",
            "138070.7705502768\n",
            "138070.63156099728\n",
            "138070.5083099206\n"
          ],
          "name": "stdout"
        },
        {
          "output_type": "error",
          "ename": "KeyboardInterrupt",
          "evalue": "ignored",
          "traceback": [
            "\u001b[0;31m---------------------------------------------------------------------------\u001b[0m",
            "\u001b[0;31mKeyboardInterrupt\u001b[0m                         Traceback (most recent call last)",
            "\u001b[0;32m<ipython-input-53-82b70e14f9d7>\u001b[0m in \u001b[0;36m<module>\u001b[0;34m()\u001b[0m\n\u001b[1;32m    107\u001b[0m \u001b[0;34m\u001b[0m\u001b[0m\n\u001b[1;32m    108\u001b[0m \u001b[0mnet\u001b[0m\u001b[0;34m=\u001b[0m\u001b[0mModel\u001b[0m\u001b[0;34m(\u001b[0m\u001b[0;34m)\u001b[0m\u001b[0;34m\u001b[0m\u001b[0;34m\u001b[0m\u001b[0m\n\u001b[0;32m--> 109\u001b[0;31m \u001b[0mtraining_loss\u001b[0m\u001b[0;34m=\u001b[0m\u001b[0mnet\u001b[0m\u001b[0;34m.\u001b[0m\u001b[0mtrain_model\u001b[0m\u001b[0;34m(\u001b[0m\u001b[0mpca_train\u001b[0m\u001b[0;34m,\u001b[0m\u001b[0mtrain_y\u001b[0m\u001b[0;34m)\u001b[0m\u001b[0;34m\u001b[0m\u001b[0;34m\u001b[0m\u001b[0m\n\u001b[0m\u001b[1;32m    110\u001b[0m \u001b[0mplt\u001b[0m\u001b[0;34m.\u001b[0m\u001b[0mplot\u001b[0m\u001b[0;34m(\u001b[0m\u001b[0mtraining_loss\u001b[0m\u001b[0;34m)\u001b[0m\u001b[0;34m\u001b[0m\u001b[0;34m\u001b[0m\u001b[0m\n\u001b[1;32m    111\u001b[0m \u001b[0mplt\u001b[0m\u001b[0;34m.\u001b[0m\u001b[0mshow\u001b[0m\u001b[0;34m(\u001b[0m\u001b[0;34m)\u001b[0m\u001b[0;34m\u001b[0m\u001b[0;34m\u001b[0m\u001b[0m\n",
            "\u001b[0;32m<ipython-input-53-82b70e14f9d7>\u001b[0m in \u001b[0;36mtrain_model\u001b[0;34m(self, train, train_y)\u001b[0m\n\u001b[1;32m     46\u001b[0m             \u001b[0my\u001b[0m\u001b[0;34m=\u001b[0m\u001b[0mself\u001b[0m\u001b[0;34m.\u001b[0m\u001b[0mactiv\u001b[0m\u001b[0;34m(\u001b[0m\u001b[0mnp\u001b[0m\u001b[0;34m.\u001b[0m\u001b[0mdot\u001b[0m\u001b[0;34m(\u001b[0m\u001b[0mh2\u001b[0m\u001b[0;34m,\u001b[0m\u001b[0mself\u001b[0m\u001b[0;34m.\u001b[0m\u001b[0mw3\u001b[0m\u001b[0;34m)\u001b[0m\u001b[0;34m+\u001b[0m\u001b[0mself\u001b[0m\u001b[0;34m.\u001b[0m\u001b[0mb3\u001b[0m\u001b[0;34m,\u001b[0m\u001b[0;34m'softmax'\u001b[0m\u001b[0;34m)\u001b[0m\u001b[0;34m\u001b[0m\u001b[0;34m\u001b[0m\u001b[0m\n\u001b[1;32m     47\u001b[0m \u001b[0;34m\u001b[0m\u001b[0m\n\u001b[0;32m---> 48\u001b[0;31m             \u001b[0ml\u001b[0m\u001b[0;34m=\u001b[0m\u001b[0mself\u001b[0m\u001b[0;34m.\u001b[0m\u001b[0mcross_entropy_loss\u001b[0m\u001b[0;34m(\u001b[0m\u001b[0my\u001b[0m\u001b[0;34m,\u001b[0m\u001b[0mself\u001b[0m\u001b[0;34m.\u001b[0m\u001b[0mtrain_y\u001b[0m\u001b[0;34m)\u001b[0m\u001b[0;34m\u001b[0m\u001b[0;34m\u001b[0m\u001b[0m\n\u001b[0m\u001b[1;32m     49\u001b[0m             \u001b[0mprint\u001b[0m\u001b[0;34m(\u001b[0m\u001b[0ml\u001b[0m\u001b[0;34m)\u001b[0m\u001b[0;34m\u001b[0m\u001b[0;34m\u001b[0m\u001b[0m\n\u001b[1;32m     50\u001b[0m \u001b[0;34m\u001b[0m\u001b[0m\n",
            "\u001b[0;32m<ipython-input-53-82b70e14f9d7>\u001b[0m in \u001b[0;36mcross_entropy_loss\u001b[0;34m(self, y, t)\u001b[0m\n\u001b[1;32m     17\u001b[0m \u001b[0;34m\u001b[0m\u001b[0m\n\u001b[1;32m     18\u001b[0m     \u001b[0;32mdef\u001b[0m \u001b[0mcross_entropy_loss\u001b[0m\u001b[0;34m(\u001b[0m\u001b[0mself\u001b[0m\u001b[0;34m,\u001b[0m\u001b[0my\u001b[0m\u001b[0;34m,\u001b[0m\u001b[0mt\u001b[0m\u001b[0;34m)\u001b[0m\u001b[0;34m:\u001b[0m\u001b[0;34m\u001b[0m\u001b[0;34m\u001b[0m\u001b[0m\n\u001b[0;32m---> 19\u001b[0;31m         \u001b[0;32mreturn\u001b[0m \u001b[0;34m-\u001b[0m\u001b[0mnp\u001b[0m\u001b[0;34m.\u001b[0m\u001b[0msum\u001b[0m\u001b[0;34m(\u001b[0m\u001b[0mt\u001b[0m \u001b[0;34m*\u001b[0m \u001b[0mnp\u001b[0m\u001b[0;34m.\u001b[0m\u001b[0mlog\u001b[0m\u001b[0;34m(\u001b[0m\u001b[0my\u001b[0m\u001b[0;34m+\u001b[0m\u001b[0;36m0.00000001\u001b[0m\u001b[0;34m)\u001b[0m\u001b[0;34m)\u001b[0m\u001b[0;34m\u001b[0m\u001b[0;34m\u001b[0m\u001b[0m\n\u001b[0m\u001b[1;32m     20\u001b[0m \u001b[0;34m\u001b[0m\u001b[0m\n\u001b[1;32m     21\u001b[0m     \u001b[0;32mdef\u001b[0m \u001b[0mmse_loss\u001b[0m\u001b[0;34m(\u001b[0m\u001b[0mself\u001b[0m\u001b[0;34m,\u001b[0m\u001b[0my\u001b[0m\u001b[0;34m,\u001b[0m\u001b[0mt\u001b[0m\u001b[0;34m)\u001b[0m\u001b[0;34m:\u001b[0m\u001b[0;34m\u001b[0m\u001b[0;34m\u001b[0m\u001b[0m\n",
            "\u001b[0;31mKeyboardInterrupt\u001b[0m: "
          ]
        }
      ]
    },
    {
      "cell_type": "code",
      "metadata": {
        "id": "IODYU5_0r4_k",
        "colab_type": "code",
        "colab": {}
      },
      "source": [
        ""
      ],
      "execution_count": 0,
      "outputs": []
    }
  ]
}